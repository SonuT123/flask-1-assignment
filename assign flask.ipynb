{
 "cells": [
  {
   "cell_type": "markdown",
   "id": "f7721974-89fc-4e82-8504-41ca4aa1cfba",
   "metadata": {},
   "source": [
    "                                               Assignment fLASK"
   ]
  },
  {
   "cell_type": "markdown",
   "id": "26f40481-3b4a-45e0-b0b7-d40a38ccddeb",
   "metadata": {},
   "source": [
    "Q1. What is Flask Framework? What are the advantages of Flask Framework?"
   ]
  },
  {
   "cell_type": "markdown",
   "id": "7f367f52-8657-4329-935d-00b98e9beeb5",
   "metadata": {},
   "source": [
    "Flask is a micro web framework written in Python. It is a lightweight framework that provides a simple way to build web applications. Flask is based on the Werkzeug toolkit and the Jinja2 template engine.\n",
    "\n",
    "advantages of Flask Framework :-\n",
    "\n",
    "1.Lightweight and easy to learn:- Flask is a lightweight framework, which means that it is easy to learn and use. This makes it a good choice for beginners who are new to web development.\n",
    "\n",
    "2.Flexible and extensible:-: Flask is a flexible framework, which means that it can be extended to meet the needs of different projects. This is done by using extensions, which are third-party libraries that add new features to Flask.\n",
    "\n",
    "3.Fast and efficient:-: Flask is a fast and efficient framework, which means that it can be used to build high-performance web applications.\n",
    "\n",
    "4.Well-documented:-Flask is well-documented, which means that there are plenty of resources available to help developers learn how to use it. 5.Easily scalable for the applications"
   ]
  },
  {
   "cell_type": "markdown",
   "id": "c089b4de-73d8-400b-b55f-2d45ba1d8863",
   "metadata": {},
   "source": [
    "Q2. Create a simple Flask application to display ‘Hello World!!’. Attach the screenshot of the output in\n",
    "Jupyter Notebook."
   ]
  },
  {
   "cell_type": "raw",
   "id": "22456173-90b8-4bb1-b283-7d8d5d345afe",
   "metadata": {},
   "source": [
    "from flask import Flask\n",
    "\n",
    "app = Flask(__name__)\n",
    "\n",
    "@app.route(\"/\")\n",
    "def hello_world():\n",
    "    return \"<h1>Hello, World!</h1>\"\n",
    "\n",
    "if __name__==\"__main__\":\n",
    "    app.run(host=\"0.0.0.0\")\n",
    "    \n",
    "    \n",
    "    \n",
    "    \n",
    "    \n",
    "    \n",
    "    \n",
    "    \n",
    "    \n",
    "    \n",
    "    "
   ]
  },
  {
   "attachments": {
    "c41ed392-2c47-4a43-97ed-28ce2869f858.png": {
     "image/png": "[encoded data removed]"
    }
   },
   "cell_type": "markdown",
   "id": "de4fa1ce-0907-43e3-86ba-e3213eeb9a01",
   "metadata": {},
   "source": [
    "![Screenshot (7).png](attachment:c41ed392-2c47-4a43-97ed-28ce2869f858.png) Flask is a micro web framework written in Python.\n",
    "    It is a lightweight framework that provides a simple way to build web applications.\n",
    "    Flask is based on the Werkzeug toolkit and the Jinja2 template engine.\n",
    "    \n",
    "    \n",
    "    advantages of Flask Framework :-\n",
    "    \n",
    "    \n",
    "   1.Lightweight and easy to learn:-  Flask is a lightweight framework, which means that it is easy to learn and use.\n",
    "                                      This makes it a good choice for beginners who are new to web development.\n",
    "    \n",
    "   2.Flexible and extensible:-: Flask is a flexible framework, which means that it can be extended to meet the needs of different                                 projects. \n",
    "                                This is done by using extensions, which are third-party libraries that add new features to Flask.\n",
    "    \n",
    "   3.Fast and efficient:-: Flask is a fast and efficient framework, which means that it can be used to build high-performance\n",
    "                           web applications.\n",
    "    \n",
    "   4.Well-documented:-Flask is well-documented, which means that there are plenty of resources available to help developers\n",
    "                      learn how to use it.\n",
    "   5.Easily scalable for the applications\n"
   ]
  },
  {
   "cell_type": "markdown",
   "id": "4939b06a-42dc-4db9-9cfd-318cc4753859",
   "metadata": {},
   "source": [
    "Q3. What is App routing in Flask? Why do we use app routes?"
   ]
  },
  {
   "cell_type": "raw",
   "id": "00048439-d64a-4d68-85f1-ba49b197a54a",
   "metadata": {},
   "source": [
    "   App routing in Flask is the process of mapping URLs to specific functions in your application. \n",
    "         This allows you to control what happens when a user visits a particular URL. \n",
    "        \n",
    "        \n",
    "        We use app routes for a few reasons:-\n",
    "        \n",
    "        \n",
    "        1.To make our code more organized. By grouping related functionality together in functions,\n",
    "                                             we can make our code easier to read and understand.\n",
    "            \n",
    "        2.To make our application more modular. We can create separate functions for each different type of request,\n",
    "                                                and then reuse those functions in different parts of our application.\n",
    "            \n",
    "        3.To make our application more scalable. By decoupling our code from the URLs, we can make it easier to \n",
    "                                    add new features or change the existing URLs without having to change the underlying code.\n",
    "            \n",
    "        "
   ]
  },
  {
   "cell_type": "raw",
   "id": "0d36ca59-00cb-4f7d-9bdd-206cf9368c78",
   "metadata": {},
   "source": [
    "from flask import Flask\n",
    "\n",
    "app = Flask(__name__)\n",
    "\n",
    "@app.route(\"/\")\n",
    "def hello_world():\n",
    "    return \"<h1>Hello, World!</h1>\"\n",
    "\n",
    "if __name__==\"__main__\":\n",
    "    app.run(host=\"0.0.0.0\")\n",
    "    "
   ]
  },
  {
   "cell_type": "markdown",
   "id": "a491a8b9-952d-41cb-99f7-92e7809ac495",
   "metadata": {},
   "source": [
    "Q4. Create a “/welcome” route to display the welcome message “Welcome to ABC Corporation” and a “/”\n",
    "route to show the following details:\n",
    "Company Name: ABC Corporation\n",
    "Location: India\n",
    "Contact Detail: 999-999-9999"
   ]
  },
  {
   "cell_type": "raw",
   "id": "7b2d99f7-edec-453a-9ab8-f9564f16efed",
   "metadata": {},
   "source": [
    "from flask import Flask\n",
    "\n",
    "app = Flask(__name__)\n",
    "\n",
    "@app.route('/welcome')\n",
    "def welcome():\n",
    "    return 'Welcome to ABC Corporation'\n",
    "\n",
    "@app.route('/')\n",
    "def company_details():\n",
    "    return '''Company Name: ABC Corporation<br>\n",
    "              Location: India<br>\n",
    "              Contact Detail: 999-999-9999'''\n",
    "\n",
    "if __name__ == '__main__':\n",
    "    app.run(host=\"0.0.0.0\")\n",
    "  "
   ]
  },
  {
   "cell_type": "markdown",
   "id": "9541e4c7-3040-43be-9edc-2f53fe004185",
   "metadata": {},
   "source": [
    "https://brown-baker-ofvat.pwskills.app:5000/welcome"
   ]
  },
  {
   "cell_type": "markdown",
   "id": "3fd1b57c-6c46-448f-aa71-1dc1cafda3b4",
   "metadata": {},
   "source": [
    "output is \n",
    "\n",
    "   Welcome to ABC Corporation"
   ]
  },
  {
   "cell_type": "markdown",
   "id": "f0e20f62-6ec2-470c-ae89-b944ec6e1d70",
   "metadata": {},
   "source": [
    "Q5. What function is used in Flask for URL Building? Write a Python code to demonstrate the working of the\n",
    "url_for() function."
   ]
  },
  {
   "cell_type": "markdown",
   "id": "6ff7fa4c-9579-4c74-9ca4-849fe4216636",
   "metadata": {},
   "source": [
    "                     url_for() function is used in Flask for URL building.\n",
    "                     It takes the name of a view function as an argument,\n",
    "                     and any number of keyword arguments, and returns a URL that points to that view function."
   ]
  },
  {
   "cell_type": "raw",
   "id": "b9510474-6899-4fa6-b6d6-559d1bba207d",
   "metadata": {},
   "source": [
    "from flask import Flask\n",
    "\n",
    "app = Flask(__name__)\n",
    "\n",
    "@app.route(\"/welcome\")\n",
    "def welcome():\n",
    "    return \"Welcome to Flask!\"\n",
    "\n",
    "def index():\n",
    "    url = url_for(\"welcome\")\n",
    "    return f\"The URL for the welcome page is: {url}\"\n",
    "\n",
    "if __name__ == \"__main__\":\n",
    "    app.run(host=\"0.0.0.0\")\n",
    "\n",
    "               \n",
    "        \n",
    "from flask import Flask\n",
    "\n",
    "app = Flask(__name__)\n",
    "\n",
    "@app.route(\"/welcome\")\n",
    "def welcome(name):\n",
    "    return f\"Welcome, {name}!\"\n",
    "\n",
    "def index():\n",
    "    url = url_for(\"welcome\", name=\"John Doe\")\n",
    "    return f\"The URL for the welcome page is: {url}\"\n",
    "\n",
    "if __name__ == \"__main__\":\n",
    "    app.run(host=\"0.0.0.0\")"
   ]
  },
  {
   "cell_type": "markdown",
   "id": "49895761-5178-45d1-8453-706714d6c8e0",
   "metadata": {},
   "source": [
    "output \n",
    "\n",
    "\n",
    "    https://brown-baker-ofvat.pwskills.app:5000/welcome\n",
    "    \n",
    "    \n",
    "    Welcome to Flask\n",
    "    \n",
    "    \n",
    "    \n",
    "    \n",
    "    "
   ]
  }
 ],
 "metadata": {
  "kernelspec": {
   "display_name": "Python 3 (ipykernel)",
   "language": "python",
   "name": "python3"
  },
  "language_info": {
   "codemirror_mode": {
    "name": "ipython",
    "version": 3
   },
   "file_extension": ".py",
   "mimetype": "text/x-python",
   "name": "python",
   "nbconvert_exporter": "python",
   "pygments_lexer": "ipython3",
   "version": "3.10.8"
  }
 },
 "nbformat": 4,
 "nbformat_minor": 5
}
